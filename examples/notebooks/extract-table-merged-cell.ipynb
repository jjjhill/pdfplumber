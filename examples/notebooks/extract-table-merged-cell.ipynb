{
 "metadata": {
  "language_info": {
   "codemirror_mode": {
    "name": "ipython",
    "version": 3
   },
   "file_extension": ".py",
   "mimetype": "text/x-python",
   "name": "python",
   "nbconvert_exporter": "python",
   "pygments_lexer": "ipython3",
   "version": "3.6.8-final"
  },
  "orig_nbformat": 2,
  "kernelspec": {
   "name": "python36864bit4ee42470760e4f47871ce4c13be42503",
   "display_name": "Python 3.6.8 64-bit"
  }
 },
 "nbformat": 4,
 "nbformat_minor": 2,
 "cells": [
  {
   "source": [
    "# Demonstration of `pdfplumber`'s table-extraction merged_cell_fullfill options\n",
    "### Import `pdfplumber` and Load the PDF"
   ],
   "cell_type": "markdown",
   "metadata": {}
  },
  {
   "source": [
    "import pdfplumber\n",
    "pdf = pdfplumber.open(\"../pdfs/extract_table_merged_cell.pdf\")"
   ],
   "cell_type": "code",
   "metadata": {},
   "execution_count": 1,
   "outputs": []
  },
  {
   "source": [
    "### Extract table without merged_cell_fullfill option, default is False\n",
    "The value of merged cell only fill to the left up cell after extract. Other cells are None."
   ],
   "cell_type": "markdown",
   "metadata": {}
  },
  {
   "cell_type": "code",
   "execution_count": 2,
   "metadata": {},
   "outputs": [
    {
     "output_type": "stream",
     "name": "stdout",
     "text": [
      "['a', 'vTest a', None]\n['dfdfdddddddddffljlllllllllllllllllf\\nfdfffff', '6', 'b']\n['', '33', None]\n['4', '8', '9.57']\n[None, '6', None]\n['6', 'happy', None]\n['90', None, None]\n"
     ]
    }
   ],
   "source": [
    "t = pdf.pages[0].extract_table()\n",
    "for row in t:\n",
    "    print(row)"
   ]
  },
  {
   "source": [
    "### Extract table with merged_cell_fullfill option = True\n",
    "The value of merged cell only fill to all the cells belong to the merged cell after extract. "
   ],
   "cell_type": "markdown",
   "metadata": {}
  },
  {
   "cell_type": "code",
   "execution_count": 3,
   "metadata": {},
   "outputs": [
    {
     "output_type": "stream",
     "name": "stdout",
     "text": [
      "['a', 'vTest a', 'vTest a']\n['dfdfdddddddddffljlllllllllllllllllf\\nfdfffff', '6', 'b']\n['', '33', '33']\n['4', '8', '9.57']\n['4', '6', '9.57']\n['6', 'happy', 'happy']\n['90', 'happy', 'happy']\n"
     ]
    }
   ],
   "source": [
    "t = pdf.pages[0].extract_table({\n",
    "    \"merged_cell_fullfill\": True\n",
    "})\n",
    "for row in t:\n",
    "    print(row)"
   ]
  }
 ]
}